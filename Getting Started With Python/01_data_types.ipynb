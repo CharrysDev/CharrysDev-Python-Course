{
 "cells": [
  {
   "cell_type": "markdown",
   "metadata": {},
   "source": [
    "# Variables y Tipos de Datos\n",
    "\n",
    "Las variables son el elemento más básico de la programación, básicamente se tratan de contenedores de nuestro programa que almacenan un dato. Cuando estas son declaradas, se reserva un espacio en la Memoria RAM de nuestro dispositivo para almacenar el valor asignado a esa variable.\n",
    "\n",
    "Existen distintos tipos de datos que una variable puede almacenar, un texto es un tipo de dato, un número es otro tipo de dato, y cada uno se declara de una forma distinta. Vamos a ver como se ve cada tipo de dato."
   ]
  },
  {
   "cell_type": "markdown",
   "metadata": {},
   "source": [
    "### Números (Int & Float)\n",
    "\n",
    "Los tipos de datos númericos se dividen en dos: **Int**eger (Entero) y **Float** (Decimal). La diferencia entre estos es que el Float, como es decimal, posee un punto, después del cual hay más digitos."
   ]
  },
  {
   "cell_type": "code",
   "execution_count": 1,
   "metadata": {},
   "outputs": [
    {
     "name": "stdout",
     "output_type": "stream",
     "text": [
      "<class 'int'>\n",
      "<class 'float'>\n"
     ]
    }
   ],
   "source": [
    "Entero = 1\n",
    "\n",
    "Flotante = 0.5\n",
    "\n",
    "print(type(Entero))\n",
    "print(type(Flotante))"
   ]
  },
  {
   "cell_type": "markdown",
   "metadata": {},
   "source": [
    "Algo curioso de los Float, es que, solo por tener el punto, ya el tipo de dato considerá Float por el programa, no importa si los digitos que siguen después son solo ceros y ceros. Es importante mencionar esto ya que más adelante veremos Operadores, y concretamente con la división pasa algo curioso."
   ]
  },
  {
   "cell_type": "code",
   "execution_count": 2,
   "metadata": {},
   "outputs": [],
   "source": [
    "# 1 <- Esto es un Int\n",
    "\n",
    "# 1.0 <- Esto es un Float"
   ]
  },
  {
   "cell_type": "markdown",
   "metadata": {},
   "source": [
    "### Texto (String)\n",
    "\n",
    "Los tipos de datos textos se declaran encerrando el texto en comillas, puede ser con las simples o las dobles (' o \"). Aquí también podemos distinguir dos tipos de strings. Strings de una sola línea, que se declaran con únicamente una comilla en cada lado, y los strings de varias líneas, que se declaran con tres comillas en cada lado."
   ]
  },
  {
   "cell_type": "code",
   "execution_count": 3,
   "metadata": {},
   "outputs": [
    {
     "name": "stdout",
     "output_type": "stream",
     "text": [
      "Esto es un texto.\n",
      "\n",
      "Esto es un texto\n",
      "de varias líneas.\n",
      "\n"
     ]
    }
   ],
   "source": [
    "string = \"Esto es un texto.\"\n",
    "string_de_varias_lineas = \"\"\"\n",
    "Esto es un texto\n",
    "de varias líneas.\n",
    "\"\"\"\n",
    "\n",
    "print(string)\n",
    "print(string_de_varias_lineas)"
   ]
  },
  {
   "cell_type": "markdown",
   "metadata": {},
   "source": [
    "Algo que debemos tener en cuenta, es que los strings de varias líneas también funcionan como comentarios. Los comentarios son líneas de texto ignoradas por el interprete y que solo pueden ser visualizadas por el desarrollador, y que nos sirven para por ejemplo, explicar que hace una línea de código. Cuando queremos poner un comentario, podemos hacerlo con la Almohadilla (#), siendo este un comentario de una sola línea, o con comillas triples (\"\"\"), siendo este un comentario de varias líneas. Ten en centa que los comentarios de varias líneas solo se cuentan como comentarios cuando no están asociadas a ninguna línea de código funcional."
   ]
  },
  {
   "cell_type": "code",
   "execution_count": 4,
   "metadata": {},
   "outputs": [
    {
     "name": "stdout",
     "output_type": "stream",
     "text": [
      "Esto es \n",
      "un string.\n"
     ]
    }
   ],
   "source": [
    "# Esto es un comentario.\n",
    "\n",
    "\"\"\"Esto es un comentario.\"\"\"\n",
    "\n",
    "print(\"\"\"Esto es \n",
    "un string.\"\"\")"
   ]
  },
  {
   "cell_type": "markdown",
   "metadata": {},
   "source": [
    "También hay algo llamado fString, el cual es una forma de insertar una variable en un string. Esto puede servirnos, por ejemplo, para tomar el valor de un Input e insertarlo en la cadena. Para esto colocamos una **f** antes de las comillas y las variables que querramos insertar las encerramos en llaves. "
   ]
  },
  {
   "cell_type": "code",
   "execution_count": 5,
   "metadata": {},
   "outputs": [
    {
     "name": "stdout",
     "output_type": "stream",
     "text": [
      "\n",
      "Nombre del estudiante Pedrito\n",
      "Resultado del examen: 7\n",
      "¿Aprobó?: True\n"
     ]
    }
   ],
   "source": [
    "nombre = \"Pedrito\"\n",
    "calificacion = 7\n",
    "estado_de_aprobacion = True\n",
    "\n",
    "print(f\"\"\"\n",
    "Nombre del estudiante {nombre}\n",
    "Resultado del examen: {calificacion}\n",
    "¿Aprobó?: {estado_de_aprobacion}\"\"\")"
   ]
  },
  {
   "cell_type": "markdown",
   "metadata": {},
   "source": [
    "### Booleano\n",
    "\n",
    "Los tipos de datos booleanos son la base de las condicionales y los ciclos, se tratan de únicamente dos valores, **Verdadero** o **Falso**. "
   ]
  },
  {
   "cell_type": "code",
   "execution_count": 6,
   "metadata": {},
   "outputs": [],
   "source": [
    "Verdadero = True\n",
    "Falso = False\n"
   ]
  },
  {
   "cell_type": "markdown",
   "metadata": {},
   "source": [
    "Otra cosa curiosa, es que Verdadero representa 1 y Falso representa 0. Por lo que al convertir Verdadero a Int obtenemos 1 y viceversa, también con Falso y 0."
   ]
  },
  {
   "cell_type": "code",
   "execution_count": 7,
   "metadata": {},
   "outputs": [
    {
     "name": "stdout",
     "output_type": "stream",
     "text": [
      "Verdadero = 1\n",
      "Falso = 0\n"
     ]
    }
   ],
   "source": [
    "Verdadero = True\n",
    "Falso = False\n",
    "\n",
    "print(f\"Verdadero = {int(Verdadero)}\")\n",
    "print(f\"Falso = {int(Falso)}\")"
   ]
  }
 ],
 "metadata": {
  "kernelspec": {
   "display_name": "Python 3",
   "language": "python",
   "name": "python3"
  },
  "language_info": {
   "codemirror_mode": {
    "name": "ipython",
    "version": 3
   },
   "file_extension": ".py",
   "mimetype": "text/x-python",
   "name": "python",
   "nbconvert_exporter": "python",
   "pygments_lexer": "ipython3",
   "version": "3.12.4"
  }
 },
 "nbformat": 4,
 "nbformat_minor": 2
}
