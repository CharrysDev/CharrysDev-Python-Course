{
 "cells": [
  {
   "cell_type": "markdown",
   "metadata": {},
   "source": [
    "# Variables y Tipos de Datos\n",
    "\n",
    "Las variables son el elemento más básico de la programación, básicamente se tratan de contenedores de nuestro programa que almacenan un dato. Cuando estas son declaradas, se reserva un espacio en la Memoria RAM de nuestro dispositivo para almacenar el valor asignado a esa variable.\n",
    "\n",
    "Existen distintos tipos de datos que una variable puede almacenar, un texto es un tipo de dato, un número es otro tipo de dato, y cada uno se declara de una forma distinta. Vamos a ver como se ve cada tipo de dato."
   ]
  },
  {
   "cell_type": "markdown",
   "metadata": {},
   "source": [
    "### Números\n",
    "\n",
    "Los tipos de datos númericos se dividen en dos: **Int**eger (Entero) y **Float** (Decimal). La diferencia entre estos es que el Float, como es decimal, posee un punto, después del cual hay más digitos."
   ]
  },
  {
   "cell_type": "code",
   "execution_count": null,
   "metadata": {},
   "outputs": [],
   "source": [
    "Int = 1\n",
    "\n",
    "Float = 0.5"
   ]
  },
  {
   "cell_type": "markdown",
   "metadata": {},
   "source": [
    "Algo curioso de los Float, es que, solo por tener el punto, ya el tipo de dato considerá Float por el programa, no importa si los digitos que siguen después son solo ceros y ceros. Es importante mencionar esto ya que más adelante veremos Operadores, y concretamente con la división pasa algo curioso."
   ]
  },
  {
   "cell_type": "code",
   "execution_count": null,
   "metadata": {},
   "outputs": [],
   "source": [
    "# 1 <- Esto es un Int\n",
    "\n",
    "# 1.0 <- Esto es un Float"
   ]
  },
  {
   "cell_type": "markdown",
   "metadata": {},
   "source": [
    "### Texto"
   ]
  },
  {
   "cell_type": "markdown",
   "metadata": {},
   "source": [
    "### Booleano"
   ]
  }
 ],
 "metadata": {
  "language_info": {
   "name": "python"
  }
 },
 "nbformat": 4,
 "nbformat_minor": 2
}
