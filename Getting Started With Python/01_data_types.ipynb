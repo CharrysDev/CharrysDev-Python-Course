{
 "cells": [
  {
   "cell_type": "markdown",
   "metadata": {},
   "source": [
    "# Variables y Tipos de Datos\n",
    "\n",
    "Las variables son el elemento más básico de la programación, básicamente se tratan de contenedores de nuestro programa que almacenan un dato. Cuando estas son declaradas, se reserva un espacio en la Memoria RAM de nuestro dispositivo para almacenar el valor asignado a esa variable.\n",
    "\n",
    "Existen distintos tipos de datos que una variable puede almacenar, un texto es un tipo de dato, un número es otro tipo de dato, y cada uno se declara de una forma distinta. Vamos a ver como se ve cada tipo de dato."
   ]
  },
  {
   "cell_type": "markdown",
   "metadata": {},
   "source": [
    "## Datos Simples"
   ]
  },
  {
   "cell_type": "markdown",
   "metadata": {},
   "source": [
    "### Números (Int & Float)\n",
    "\n",
    "Los tipos de datos númericos se dividen en dos: **Int**eger (Entero) y **Float** (Decimal). La diferencia entre estos es que el Float, como es decimal, posee un punto, después del cual hay más digitos."
   ]
  },
  {
   "cell_type": "code",
   "execution_count": 1,
   "metadata": {},
   "outputs": [
    {
     "name": "stdout",
     "output_type": "stream",
     "text": [
      "<class 'int'>\n",
      "<class 'float'>\n"
     ]
    }
   ],
   "source": [
    "Entero = 1\n",
    "\n",
    "Flotante = 0.5\n",
    "\n",
    "print(type(Entero))\n",
    "print(type(Flotante))"
   ]
  },
  {
   "cell_type": "markdown",
   "metadata": {},
   "source": [
    "Algo curioso de los Float, es que, solo por tener el punto, ya el tipo de dato considerá Float por el programa, no importa si los digitos que siguen después son solo ceros y ceros. Es importante mencionar esto ya que más adelante veremos Operadores, y concretamente con la división pasa algo curioso."
   ]
  },
  {
   "cell_type": "code",
   "execution_count": null,
   "metadata": {},
   "outputs": [],
   "source": [
    "# 1 <- Esto es un Int\n",
    "\n",
    "# 1.0 <- Esto es un Float"
   ]
  },
  {
   "cell_type": "markdown",
   "metadata": {},
   "source": [
    "### Texto (String)\n",
    "\n",
    "Los tipos de datos textos se declaran encerrando el texto en comillas, puede ser con las simples o las dobles (' o \"). Aquí también podemos distinguir dos tipos de strings. Strings de una sola línea, que se declaran con únicamente una comilla en cada lado, y los strings de varias líneas, que se declaran con tres comillas en cada lado."
   ]
  },
  {
   "cell_type": "code",
   "execution_count": 2,
   "metadata": {},
   "outputs": [
    {
     "name": "stdout",
     "output_type": "stream",
     "text": [
      "Esto es un texto.\n",
      "\n",
      "Esto es un texto\n",
      "de varias líneas.\n",
      "\n"
     ]
    }
   ],
   "source": [
    "string = \"Esto es un texto.\"\n",
    "string_de_varias_lineas = \"\"\"\n",
    "Esto es un texto\n",
    "de varias líneas.\n",
    "\"\"\"\n",
    "\n",
    "print(string)\n",
    "print(string_de_varias_lineas)"
   ]
  },
  {
   "cell_type": "markdown",
   "metadata": {},
   "source": [
    "Algo que debemos tener en cuenta, es que los strings de varias líneas también funcionan como comentarios. Los comentarios son líneas de texto ignoradas por el interprete y que solo pueden ser visualizadas por el desarrollador, y que nos sirven para por ejemplo, explicar que hace una línea de código. Cuando queremos poner un comentario, podemos hacerlo con la Almohadilla (#), siendo este un comentario de una sola línea, o con comillas triples (\"\"\"), siendo este un comentario de varias líneas. Ten en centa que los comentarios de varias líneas solo se cuentan como comentarios cuando no están asociadas a ninguna línea de código funcional."
   ]
  },
  {
   "cell_type": "code",
   "execution_count": 3,
   "metadata": {},
   "outputs": [
    {
     "name": "stdout",
     "output_type": "stream",
     "text": [
      "Esto es \n",
      "un string.\n"
     ]
    }
   ],
   "source": [
    "# Esto es un comentario.\n",
    "\n",
    "\"\"\"Esto es un comentario.\"\"\"\n",
    "\n",
    "print(\"\"\"Esto es \n",
    "un string.\"\"\")"
   ]
  },
  {
   "cell_type": "markdown",
   "metadata": {},
   "source": [
    "También hay algo llamado fString, el cual es una forma de insertar una variable en un string. Esto puede servirnos, por ejemplo, para tomar el valor de un Input e insertarlo en la cadena. Para esto colocamos una **f** antes de las comillas y las variables que querramos insertar las encerramos en llaves. "
   ]
  },
  {
   "cell_type": "code",
   "execution_count": 4,
   "metadata": {},
   "outputs": [
    {
     "name": "stdout",
     "output_type": "stream",
     "text": [
      "\n",
      "Nombre del estudiante Pedrito\n",
      "Resultado del examen: 7\n",
      "¿Aprobó?: True\n"
     ]
    }
   ],
   "source": [
    "nombre = \"Pedrito\"\n",
    "calificacion = 7\n",
    "estado_de_aprobacion = True\n",
    "\n",
    "print(f\"\"\"\n",
    "Nombre del estudiante {nombre}\n",
    "Resultado del examen: {calificacion}\n",
    "¿Aprobó?: {estado_de_aprobacion}\"\"\")"
   ]
  },
  {
   "cell_type": "markdown",
   "metadata": {},
   "source": [
    "### Booleano\n",
    "\n",
    "Los tipos de datos booleanos son la base de las condicionales y los ciclos, se tratan de únicamente dos valores, **Verdadero** o **Falso**. "
   ]
  },
  {
   "cell_type": "code",
   "execution_count": null,
   "metadata": {},
   "outputs": [],
   "source": [
    "Verdadero = True\n",
    "Falso = False\n"
   ]
  },
  {
   "cell_type": "markdown",
   "metadata": {},
   "source": [
    "Otra cosa curiosa, es que Verdadero representa 1 y Falso representa 0. Por lo que al convertir Verdadero a Int obtenemos 1 y viceversa, también con Falso y 0."
   ]
  },
  {
   "cell_type": "code",
   "execution_count": 5,
   "metadata": {},
   "outputs": [
    {
     "name": "stdout",
     "output_type": "stream",
     "text": [
      "Verdadero = 1\n",
      "Falso = 0\n"
     ]
    }
   ],
   "source": [
    "Verdadero = True\n",
    "Falso = False\n",
    "\n",
    "print(f\"Verdadero = {int(Verdadero)}\")\n",
    "print(f\"Falso = {int(Falso)}\")"
   ]
  },
  {
   "cell_type": "markdown",
   "metadata": {},
   "source": [
    "## Datos Compuestos O Arrays\n",
    "\n",
    "Los **Datos Compuestos** o llamados en Programación **Arrays** son un conjunto de otros datos, o sea, datos conformados por varios datos. Sí, suena confunso, pero tranquilo, es sencillo. Verán, a veces podemos tener datos que compartan una característica en común, por ejemplo, digamos que tenemos marcas de celulares: Samsung, Apple, Xiaomi, Huawei y Honor, y necesitamos almacenarlas en una variable. Obviamente no nos podemos poner a crear una varibale para cada uno, porque además de incomodo no es la manera más óptima y eficiente de recuperar datos. Por esto, tenemos los Arrays, que son Datos, conformados por más datos. Al almacenar las marcas en una variable, y querer obtener una sola de ellas, solo basta con indicar la variable y la posición de ese dato.\n",
    "\n",
    "En Python hay 4 tipos de Arrays: Listas, Tuplas, Conjuntos y Diccionarios. Y puede que te preguntes por qué hay 4, ¿no son todos para los mismo? No, cada uno tiene una diferencia en concreto."
   ]
  },
  {
   "cell_type": "markdown",
   "metadata": {},
   "source": [
    "### Listas\n",
    "\n",
    "Las listas son Arrays los cuales una vez declarados, si queremos, más adelante podemos modificar, ya sea la lista en su totalidad o bien un dato en concreto."
   ]
  },
  {
   "cell_type": "code",
   "execution_count": 6,
   "metadata": {},
   "outputs": [
    {
     "name": "stdout",
     "output_type": "stream",
     "text": [
      "['Samsung', 'Apple', 'Xiaomi', 'Huawei', 'Honor']\n"
     ]
    }
   ],
   "source": [
    "Marcas_De_Celulares = [\"Samsung\", \"Apple\", \"Xiaomi\", \"Huawei\", \"Honor\"]\n",
    "\n",
    "print(Marcas_De_Celulares)"
   ]
  },
  {
   "cell_type": "markdown",
   "metadata": {},
   "source": [
    "Para recuperar un dato en concreto de la lista anterior, debemos ejecutar el comando Print, con el nombre de la variable y especificando la posición del dato"
   ]
  },
  {
   "cell_type": "code",
   "execution_count": 7,
   "metadata": {},
   "outputs": [
    {
     "name": "stdout",
     "output_type": "stream",
     "text": [
      "Apple\n"
     ]
    }
   ],
   "source": [
    "print(Marcas_De_Celulares[1])"
   ]
  },
  {
   "cell_type": "markdown",
   "metadata": {},
   "source": [
    "Espera, ¿Apple? ¿Por qué sale Apple si le especificamos el Elemento 1, ¿no? Lo que pasa es que aquí las posiciones no empiezan desde el 1, sino desde el 0, es decir, que el Index (Posición) del primer elemento es el 0 y no el 1, por lo que para recuperar \"Samsung\" debemos especificar el index 0."
   ]
  },
  {
   "cell_type": "code",
   "execution_count": 8,
   "metadata": {},
   "outputs": [
    {
     "name": "stdout",
     "output_type": "stream",
     "text": [
      "Samsung\n"
     ]
    }
   ],
   "source": [
    "print(Marcas_De_Celulares[0])"
   ]
  },
  {
   "cell_type": "markdown",
   "metadata": {},
   "source": [
    "Para modificar un dato de la lista anterior, debemos dar el nombre de la variable, la posición a modificar y el nuevo dato"
   ]
  },
  {
   "cell_type": "code",
   "execution_count": 9,
   "metadata": {},
   "outputs": [
    {
     "name": "stdout",
     "output_type": "stream",
     "text": [
      "['Samsung', 'Apple', 'Xiaomi', 'OnePlus', 'Honor']\n"
     ]
    }
   ],
   "source": [
    "Marcas_De_Celulares[3] = \"OnePlus\"\n",
    "\n",
    "print(Marcas_De_Celulares)"
   ]
  },
  {
   "cell_type": "markdown",
   "metadata": {},
   "source": [
    "Como puedes ver, reemplazamos \"Huawei\" por \"OnePlus\""
   ]
  },
  {
   "cell_type": "markdown",
   "metadata": {},
   "source": [
    "### Tuplas\n",
    "\n",
    "Las tuplas son Arrays los cuales una vez declarados, pueden ser **reconstruidos** y podemos acceder a sus elementos por su Index, pero sus elementos no pueden ser modificados indivudualmente."
   ]
  },
  {
   "cell_type": "code",
   "execution_count": 10,
   "metadata": {},
   "outputs": [
    {
     "name": "stdout",
     "output_type": "stream",
     "text": [
      "('Python', 'JavaScript', 'C#', 'PhP', 'Kotlin')\n",
      "\n",
      "El mejor lenguaje es Python\n"
     ]
    }
   ],
   "source": [
    "Lenguajes_De_Programacion = (\"Python\", \"JavaScript\", \"C#\", \"PhP\", \"Kotlin\")\n",
    "\n",
    "print(Lenguajes_De_Programacion)\n",
    "print(f\"\"\"\n",
    "El mejor lenguaje es {Lenguajes_De_Programacion[0]}\"\"\")"
   ]
  },
  {
   "cell_type": "code",
   "execution_count": 11,
   "metadata": {},
   "outputs": [
    {
     "name": "stdout",
     "output_type": "stream",
     "text": [
      "('Lua', 'TypeScript', 'Java', 'Golang', 'Swift')\n"
     ]
    }
   ],
   "source": [
    "# Lenguajes_De_Programacion[1] = \"TypeScript\" <- Esto no es válido. No se puede modificar un elemento individualmente\n",
    "\n",
    "# Lenguajes_De_Programacion = (\"Lua\", \"TypeScript\", \"Java\", \"Golang\", \"Swift\") <- Esto sí es válido, vamos a probarlo.\n",
    "Lenguajes_De_Programacion = (\"Lua\", \"TypeScript\", \"Java\", \"Golang\", \"Swift\")\n",
    "print(Lenguajes_De_Programacion)"
   ]
  },
  {
   "cell_type": "markdown",
   "metadata": {},
   "source": [
    "### Conjuntos\n",
    "\n",
    "Los conjuntos son similares a las tuplas, pero en este caso **no podemos acceder a sus elementos por el Index**. Aunque hay una manera de acceder a cada elemento individual, esto se ve más adelante en **Bucles**"
   ]
  },
  {
   "cell_type": "code",
   "execution_count": 12,
   "metadata": {},
   "outputs": [
    {
     "name": "stdout",
     "output_type": "stream",
     "text": [
      "{'Jack In The Box', \"McDonald's\", 'KFC', 'Burger King', \"Domino's Pizza\"}\n"
     ]
    }
   ],
   "source": [
    "Restaurantes_FastFood = {\"McDonald's\", \"KFC\", \"Burger King\", \"Domino's Pizza\", \"Jack In The Box\"}\n",
    "print(Restaurantes_FastFood)\n",
    "\n",
    "# print(Restaurantes_FastFood[0]) <- Esto no es válido "
   ]
  },
  {
   "cell_type": "markdown",
   "metadata": {},
   "source": [
    "### Diccionarios\n",
    "\n",
    "Si de casualidad ya vienes de saber programación y conoces el lenguaje JavaScript, este tipo de Arrays se te harán familiares. Los diccionarios son Arrays donde, en vez de que los elementos tengan un Index, tienen un nombre, por lo que para acceder a un elemento se hace por medio de su nombre. Esto, para los programadores de JavaScript, es literalmente un **JSON**"
   ]
  },
  {
   "cell_type": "code",
   "execution_count": 13,
   "metadata": {},
   "outputs": [
    {
     "name": "stdout",
     "output_type": "stream",
     "text": [
      "{'Nombre': 'David Santiago Charrys Pacheco', 'Edad': 15, 'País': 'Colombia', 'Ocupación': 'Estudiante y Desarrollador Full-Stack', '¿Hace Vídeos?': True}\n"
     ]
    }
   ],
   "source": [
    "Info_CharrysDev = {\n",
    "    \"Nombre\": \"David Santiago Charrys Pacheco\",\n",
    "    \"Edad\": 15, #En 2024\n",
    "    \"País\": \"Colombia\",\n",
    "    \"Ocupación\": \"Estudiante y Desarrollador Full-Stack\",\n",
    "    \"¿Hace Vídeos?\": True\n",
    "}\n",
    "\n",
    "print(Info_CharrysDev)"
   ]
  },
  {
   "cell_type": "code",
   "execution_count": 14,
   "metadata": {},
   "outputs": [
    {
     "name": "stdout",
     "output_type": "stream",
     "text": [
      "David Santiago Charrys Pacheco\n"
     ]
    }
   ],
   "source": [
    "print(Info_CharrysDev[\"Nombre\"])"
   ]
  },
  {
   "cell_type": "markdown",
   "metadata": {},
   "source": [
    "**Siguiente Lección: `02_operators.py`**"
   ]
  }
 ],
 "metadata": {
  "kernelspec": {
   "display_name": "Python 3",
   "language": "python",
   "name": "python3"
  },
  "language_info": {
   "codemirror_mode": {
    "name": "ipython",
    "version": 3
   },
   "file_extension": ".py",
   "mimetype": "text/x-python",
   "name": "python",
   "nbconvert_exporter": "python",
   "pygments_lexer": "ipython3",
   "version": "3.12.4"
  }
 },
 "nbformat": 4,
 "nbformat_minor": 2
}
