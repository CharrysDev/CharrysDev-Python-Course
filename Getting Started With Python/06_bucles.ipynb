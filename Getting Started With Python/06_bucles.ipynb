{
 "cells": [
  {
   "cell_type": "markdown",
   "metadata": {},
   "source": [
    "# Bucles"
   ]
  },
  {
   "cell_type": "markdown",
   "metadata": {},
   "source": [
    "Excelente, **Bucles**, una de mis partes favoritas. Los **bucles** no son más que un fragmento de código que se repite y repite mientras una condición sea verdadera. Existen 2 tipos de Bucles, **For** y **While**."
   ]
  },
  {
   "cell_type": "markdown",
   "metadata": {},
   "source": [
    "## Bucle For"
   ]
  },
  {
   "cell_type": "markdown",
   "metadata": {},
   "source": [
    "El Bucle **For** permite recorrer elementos de un objeto iterable (Listas, Tuplas, Conjuntos, Diccionario, etc.) y realizar una tarea sobre esos elementos. Es decir, toma todos y cada uno de los elementos del objeto y con él, realiza acciones hasta que se terminan los elementos."
   ]
  },
  {
   "cell_type": "code",
   "execution_count": 1,
   "metadata": {},
   "outputs": [
    {
     "name": "stdout",
     "output_type": "stream",
     "text": [
      "Yo programo en Python\n",
      "Yo programo en TypeScript\n",
      "Yo programo en Go\n",
      "Yo programo en Kotlin\n",
      "Yo programo en C#\n"
     ]
    }
   ],
   "source": [
    "Lenguajes = ['Python', 'TypeScript', 'Go', 'Kotlin', 'C#']\n",
    "\n",
    "for lenguaje in Lenguajes:\n",
    "    print(f\"Yo programo en {lenguaje}\")"
   ]
  },
  {
   "cell_type": "markdown",
   "metadata": {},
   "source": [
    "En el ejemplo anterior el Bucle está tomando todos los elementos de la lista `Lenguajes` y los coloca en una variable llamada `lenguaje`, entonces, toma el primer elemento (`Python`), lo reemplaza en la variable `lenguaje` y hace lo que el bloque de código le diga, en este caso, imprimirlo en la terminal, y así con el resto de elementos."
   ]
  },
  {
   "cell_type": "markdown",
   "metadata": {},
   "source": [
    "Se pueden hacer varias cosas con `for`, veamos algunas:"
   ]
  },
  {
   "cell_type": "markdown",
   "metadata": {},
   "source": [
    "Iterar sobre un rango de números:"
   ]
  },
  {
   "cell_type": "code",
   "execution_count": 2,
   "metadata": {},
   "outputs": [
    {
     "name": "stdout",
     "output_type": "stream",
     "text": [
      "El número es: 1\n",
      "El número es: 2\n",
      "El número es: 3\n",
      "El número es: 4\n"
     ]
    }
   ],
   "source": [
    "for numero in range(1, 5):\n",
    "    print(f\"El número es: {numero}\")\n"
   ]
  },
  {
   "cell_type": "markdown",
   "metadata": {},
   "source": [
    "Recorrer una cadena de texto:"
   ]
  },
  {
   "cell_type": "code",
   "execution_count": 3,
   "metadata": {},
   "outputs": [
    {
     "name": "stdout",
     "output_type": "stream",
     "text": [
      "Letra: P\n",
      "Letra: y\n",
      "Letra: t\n",
      "Letra: h\n",
      "Letra: o\n",
      "Letra: n\n"
     ]
    }
   ],
   "source": [
    "texto = \"Python\"\n",
    "for letra in texto:\n",
    "    print(f\"Letra: {letra}\")"
   ]
  },
  {
   "cell_type": "markdown",
   "metadata": {},
   "source": [
    "Usar `enumerate` par acceder a los índices:"
   ]
  },
  {
   "cell_type": "code",
   "execution_count": 4,
   "metadata": {},
   "outputs": [
    {
     "name": "stdout",
     "output_type": "stream",
     "text": [
      "0: manzana\n",
      "1: banana\n",
      "2: cereza\n"
     ]
    }
   ],
   "source": [
    "frutas = ['manzana', 'banana', 'cereza']\n",
    "for indice, fruta in enumerate(frutas):\n",
    "    print(f\"{indice}: {fruta}\")"
   ]
  },
  {
   "cell_type": "markdown",
   "metadata": {},
   "source": [
    "Recorrer diccionarios:"
   ]
  },
  {
   "cell_type": "code",
   "execution_count": 5,
   "metadata": {},
   "outputs": [
    {
     "name": "stdout",
     "output_type": "stream",
     "text": [
      "Alice tiene una calificación de 85\n",
      "Bob tiene una calificación de 90\n",
      "Charlie tiene una calificación de 78\n"
     ]
    }
   ],
   "source": [
    "estudiantes = {'Alice': 85, 'Bob': 90, 'Charlie': 78}\n",
    "for nombre, calificacion in estudiantes.items():\n",
    "    print(f\"{nombre} tiene una calificación de {calificacion}\")"
   ]
  },
  {
   "cell_type": "markdown",
   "metadata": {},
   "source": [
    "## Bucle While"
   ]
  },
  {
   "cell_type": "markdown",
   "metadata": {},
   "source": [
    "El Bucle **While** ejecuta un bloque de código mientras una condición sea verdadera, una vez se vuelve falsa, el bucle se detendrá."
   ]
  },
  {
   "cell_type": "code",
   "execution_count": 6,
   "metadata": {},
   "outputs": [
    {
     "name": "stdout",
     "output_type": "stream",
     "text": [
      "10\n",
      "20\n",
      "30\n",
      "40\n",
      "50\n",
      "60\n",
      "70\n",
      "80\n",
      "90\n"
     ]
    }
   ],
   "source": [
    "Número = 10\n",
    "\n",
    "while Número <100:\n",
    "    print(Número)\n",
    "    Número = Número + 10"
   ]
  },
  {
   "cell_type": "markdown",
   "metadata": {},
   "source": [
    "Aquí, el Bucle se ejecuta mientras `Número` sea menor a 100 y lo muestra en la terminal, si `Número` sigue siendo menor a 100 entonces le suma 10 hasta que sea 100, una vez sea 100, el bucle terminará."
   ]
  },
  {
   "cell_type": "markdown",
   "metadata": {},
   "source": [
    "Algo que se puede hacer con este Bucle es repetir un Proceso todo el rato una vez se ejecute el código, esto se hace usando `while True`, así el código solo se detendrá si se le especifica que lo haga. ¿Qué? ¿Cómo así que cómo así que se detiene? Ahhh, no les dije pero hay 3 complementos para los bucles `break`, `continue` y `else`.\n",
    "\n",
    "- `break`: Detiene el código antes de tiempo\n",
    "- `continue`: En un `for`, salta a la siguiente iteración, en un `while`, regresa al inicio del bloque de código evaluando la condición especificada en el `while <condición>`.\n",
    "- `else`: Ejecuta una línea de código una vez el Bucle finalice si no ha sido interrumpido con `break`"
   ]
  },
  {
   "cell_type": "markdown",
   "metadata": {},
   "source": [
    "Veamos un ejemplo de `break` en un `while True`:"
   ]
  },
  {
   "cell_type": "code",
   "execution_count": 7,
   "metadata": {},
   "outputs": [
    {
     "name": "stdout",
     "output_type": "stream",
     "text": [
      "Presionaste N, entonces sigo\n",
      "Presionaste S, así que me detendré\n"
     ]
    }
   ],
   "source": [
    "while True:\n",
    "    si_o_no = input(\"¿Me detengo? S o N: \")\n",
    "    if si_o_no == 'S':\n",
    "        print(\"Presionaste S, así que me detendré\")\n",
    "        break\n",
    "    elif si_o_no == 'N':\n",
    "        print(\"Presionaste N, entonces sigo\")\n",
    "    else:\n",
    "        print(\"Solo S o N\")"
   ]
  },
  {
   "cell_type": "markdown",
   "metadata": {},
   "source": [
    "En el ejemplo anterior, le dije una vez que no se detuviera, y luego le dije que sí, cuando le dije que sí, se detuvó"
   ]
  },
  {
   "cell_type": "markdown",
   "metadata": {},
   "source": [
    "# Posible solución del ejercicio anterior\n",
    "\n",
    "En la lección anterior (`05_inputs`) se propuso un ejercicio que consistía en dar una contraseña y ver si coincidia con una guardada. Una posible solución es esta:"
   ]
  },
  {
   "cell_type": "code",
   "execution_count": null,
   "metadata": {},
   "outputs": [],
   "source": [
    "contraseñaGuardada = \"thisisapassword123\"\n",
    "contraseñaIngresada = input(\"Inserte la Contraseña: \")\n",
    "\n",
    "if contraseñaIngresada == contraseñaGuardada:\n",
    "    print(\"Acceso Concedido\")\n",
    "else:\n",
    "    print(\"Acceso Denegado\")"
   ]
  }
 ],
 "metadata": {
  "kernelspec": {
   "display_name": "Python 3",
   "language": "python",
   "name": "python3"
  },
  "language_info": {
   "codemirror_mode": {
    "name": "ipython",
    "version": 3
   },
   "file_extension": ".py",
   "mimetype": "text/x-python",
   "name": "python",
   "nbconvert_exporter": "python",
   "pygments_lexer": "ipython3",
   "version": "3.13.0"
  }
 },
 "nbformat": 4,
 "nbformat_minor": 2
}
