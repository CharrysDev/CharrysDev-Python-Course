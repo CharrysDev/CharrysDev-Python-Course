{
 "cells": [
  {
   "cell_type": "markdown",
   "metadata": {},
   "source": [
    "# Condicionales\n",
    "\n",
    "Los **condicionales** son fragmentos de código que nos permiten ejecutar otro código, solo si la condición establecida se cumple.\n",
    "\n",
    "Es decir, piensa en una discoteca, normalmente para estas se debe tener un mínimo de 18 años. Entonces, interpretando esta regla, significa que **si la persona tiene 18 años o más** entonces se le permite la entrada, **de lo contrario** no se le permite."
   ]
  },
  {
   "cell_type": "code",
   "execution_count": 1,
   "metadata": {},
   "outputs": [
    {
     "name": "stdout",
     "output_type": "stream",
     "text": [
      "Usuario 1: ¡Puedes entrar!\n",
      "Usuario 2: No puedes entrar, no cumples con el mínimo de edad.\n"
     ]
    }
   ],
   "source": [
    "Edad_Usuario1 = 19\n",
    "Edad_Usuario2 = 16\n",
    "\n",
    "# Ejemplo usuario 1:\n",
    "if Edad_Usuario1 >= 18:\n",
    "    print(\"Usuario 1: ¡Puedes entrar!\")\n",
    "else:\n",
    "    print(\"Usuario 1: No puedes entrar, no cumples con el mínimo de edad.\")\n",
    "\n",
    "# Ejemplo usuario 2:\n",
    "if Edad_Usuario2 >= 18:\n",
    "    print(\"Usuario 2: ¡Puedes entrar!\")\n",
    "else:\n",
    "    print(\"Usuario 2: No puedes entrar, no cumples con el mínimo de edad.\")"
   ]
  },
  {
   "cell_type": "markdown",
   "metadata": {},
   "source": [
    "Existe una tercera palabra reservada llamada `elif` (un juego de palabras entre `else` e `if`), que nos permite establecer una condición adicional, para que en caso de que la primera no se cumpla, si esta se cumple, se ejecute otra línea de código."
   ]
  },
  {
   "cell_type": "code",
   "execution_count": 2,
   "metadata": {},
   "outputs": [
    {
     "name": "stdout",
     "output_type": "stream",
     "text": [
      "Usuario 1 puede pasar, pero Usuario 2 no\n"
     ]
    }
   ],
   "source": [
    "if Edad_Usuario1 >= 18 and Edad_Usuario2 >= 18:\n",
    "    print(\"Usuario 1 y 2 pueden pasar\")\n",
    "elif Edad_Usuario1 >= 18 and Edad_Usuario2 < 18:\n",
    "    print(\"Usuario 1 puede pasar, pero Usuario 2 no\")\n",
    "elif Edad_Usuario1 < 18 and Edad_Usuario2 >= 18:\n",
    "    print(\"Usuario 2 puede pasar, pero Usuario 1 no\")\n",
    "else:\n",
    "    print(\"Usuario 1 y 2 no pueden pasar\")"
   ]
  },
  {
   "cell_type": "markdown",
   "metadata": {},
   "source": [
    "## ¡Tu turno!\n",
    "\n",
    "La temperatura regular de una persona debe estar entre los 36.5 y 37.5 grados celsius. Crea un programa en el cual, al pasarle una variable cuyo dato sea un número y confirmar que este esta entre los 36.5 y 37.5 grados diga \"¡Temperatura estable!\" y que de lo contrario, si la condición no se cumple diga \"¡Temperatura inestable!\". Una vez resuelto, comparalo con la solución propuesta en la siguiente lección."
   ]
  },
  {
   "cell_type": "markdown",
   "metadata": {},
   "source": [
    "**Siguiente Lección: `04_methods`**"
   ]
  }
 ],
 "metadata": {
  "kernelspec": {
   "display_name": "Python 3",
   "language": "python",
   "name": "python3"
  },
  "language_info": {
   "codemirror_mode": {
    "name": "ipython",
    "version": 3
   },
   "file_extension": ".py",
   "mimetype": "text/x-python",
   "name": "python",
   "nbconvert_exporter": "python",
   "pygments_lexer": "ipython3",
   "version": "3.12.4"
  }
 },
 "nbformat": 4,
 "nbformat_minor": 2
}
