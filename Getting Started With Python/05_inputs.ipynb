{
 "cells": [
  {
   "cell_type": "markdown",
   "metadata": {},
   "source": [
    "# Entradas\n",
    "\n",
    "Las entradas o **inputs** se tratan de datos que le solicitamos al usuario. Es decir, al momento de ejecutar el programa, este le va a pedir al usuario que ingrese un dato, y el dato que el usuario introduzca, será el dato que almacene la variable que nosotros elijamos, y que posteriormente podemos manipular."
   ]
  },
  {
   "cell_type": "code",
   "execution_count": 1,
   "metadata": {},
   "outputs": [
    {
     "name": "stdout",
     "output_type": "stream",
     "text": [
      "Bienvenido David\n"
     ]
    }
   ],
   "source": [
    "Nombre = input(\"Buenos días, por favor, denos su nombre: \") # Para el ejemplo introduciré 'David'\n",
    "print(f\"Bienvenido {Nombre}\")"
   ]
  },
  {
   "cell_type": "markdown",
   "metadata": {},
   "source": [
    "En el ejemplo anterior, la variable nombre será el dato que el usuario introduzca, y el programa mostrará un mensaje de bienvenida que contendrá la variable nombre, en este caso 'David', porque fue el dato que le dí. De esta manera podemos también hacer el ejemplo que mostramos en los condicionales."
   ]
  },
  {
   "cell_type": "code",
   "execution_count": 2,
   "metadata": {},
   "outputs": [
    {
     "name": "stdout",
     "output_type": "stream",
     "text": [
      "Lo sentimos, no puedes pasar\n"
     ]
    }
   ],
   "source": [
    "Edad_Usuario = input(\"Bienvenido a la discoteca, por favor, introuzca su edad: \") # Para el ejemplo introduciré 15\n",
    "\n",
    "Edad_Usuario = int(Edad_Usuario) # Convertir el dato que el usuario dió a Integer (Número)\n",
    "\n",
    "if Edad_Usuario >= 18:\n",
    "    print(\"Adelante, puedes pasar\")\n",
    "else:\n",
    "    print(\"Lo sentimos, no puedes pasar\")"
   ]
  },
  {
   "cell_type": "markdown",
   "metadata": {},
   "source": [
    "## ¡Tu turno!\n",
    "\n",
    "Crea un programa el cual pida al usuario una contraseña y que luego le pida la contraseña recién dada, para a través de un condicional comparar ambas contraseñas y si coinciden imprimir 'Acceso Concedido' y de lo contrario imprimir 'Acceso Denegado. Intentelo de nuevo'."
   ]
  }
 ],
 "metadata": {
  "kernelspec": {
   "display_name": "Python 3",
   "language": "python",
   "name": "python3"
  },
  "language_info": {
   "codemirror_mode": {
    "name": "ipython",
    "version": 3
   },
   "file_extension": ".py",
   "mimetype": "text/x-python",
   "name": "python",
   "nbconvert_exporter": "python",
   "pygments_lexer": "ipython3",
   "version": "3.13.0"
  }
 },
 "nbformat": 4,
 "nbformat_minor": 2
}
