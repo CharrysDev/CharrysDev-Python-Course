{
 "cells": [
  {
   "cell_type": "markdown",
   "metadata": {},
   "source": [
    "# Operadores\n",
    "\n",
    "Los operadores son símbolos o palabras que le indican a un compilador o intérprete que realice una operación específica sobre uno o más operandos. Los operadores son fundamentales para realizar cálculos, tomar decisiones, manipular datos y controlar el flujo de un programa."
   ]
  },
  {
   "cell_type": "markdown",
   "metadata": {},
   "source": [
    "## Operadores Aritméticos\n",
    "\n",
    "Sencillamente son los símbolos para hacer las operaciones matemáticas básicas que todos conocemos:\n",
    "- Suma (+)\n",
    "- Resta (-)\n",
    "- Multiplicación (*)\n",
    "- Potenciación (**)\n",
    "- División (/)\n",
    "- Módulo (%)\n",
    "- División Baja (//)"
   ]
  },
  {
   "cell_type": "code",
   "execution_count": 1,
   "metadata": {},
   "outputs": [
    {
     "name": "stdout",
     "output_type": "stream",
     "text": [
      "{'Suma': '7 + 3 = 10', 'Resta': '7 - 3 = 4', 'Multiplicación': '7 * 3 = 21', 'Potenciación': '7 ** 3 = 343', 'División': '7 / 3 = 2.3333333333333335', 'Módulo': '7 % 3 = 1', 'División Baja': '7 // 3 = 2'}\n"
     ]
    }
   ],
   "source": [
    "Op_Aritmeticos = {\n",
    "    \"Suma\" : f\"7 + 3 = {7 + 3}\", #10\n",
    "    \"Resta\" : f\"7 - 3 = {7 - 3}\", # 4\n",
    "    \"Multiplicación\" : f\"7 * 3 = {7 * 3}\", #21\n",
    "    \"Potenciación\" : f\"7 ** 3 = {7 ** 3}\", #343\n",
    "    \"División\" : f\"7 / 3 = {7 / 3}\", #2.333...\n",
    "    \"Módulo\" : f\"7 % 3 = {7 % 3}\", # Devuelve el Resto de la división (1)\n",
    "    \"División Baja\" : f\"7 // 3 = {7 // 3}\" # Devuelve la parte entera de la División (2)\n",
    "}\n",
    "\n",
    "print(Op_Aritmeticos)"
   ]
  },
  {
   "cell_type": "markdown",
   "metadata": {},
   "source": [
    "Si vemos, hay dos nuevos: Módulo y División Baja. El Módulo nos regresa el Resto, lo que sobra de la división. Pero, ¿qué pasa con la division baja? Si recuerdas, te mencione que con la división pasaba algo curioso, y es que independientemente de si la división es exacta, el resultado será un Float. Esto podemos solucionarlo con la división baja, que nos devuelve el Int de dicha división"
   ]
  },
  {
   "cell_type": "code",
   "execution_count": 2,
   "metadata": {},
   "outputs": [
    {
     "name": "stdout",
     "output_type": "stream",
     "text": [
      "\n",
      "En División: 10 / 2 = 5.0\n",
      "En División Baja: 10 // 2 = 5\n",
      "\n"
     ]
    }
   ],
   "source": [
    "print(f\"\"\"\n",
    "En División: 10 / 2 = {10 / 2}\n",
    "En División Baja: 10 // 2 = {10 // 2}\n",
    "\"\"\")"
   ]
  },
  {
   "cell_type": "markdown",
   "metadata": {},
   "source": [
    "## Operadores de comparación\n",
    "\n",
    "Este tipo de operadores establecen una comparación entre dos datos, para que dependiendo del resultado (**True** or **False**) nosotros le demos una instrucción al programa:\n",
    "\n",
    "- Es igual que (==)\n",
    "- Es distinto que (!=)\n",
    "- Es menor que (<)\n",
    "- Es menor o igual que (<=)\n",
    "- Es mayor que (>)\n",
    "- Es mayor o igual que (>=)"
   ]
  },
  {
   "cell_type": "code",
   "execution_count": 3,
   "metadata": {},
   "outputs": [
    {
     "name": "stdout",
     "output_type": "stream",
     "text": [
      "{'Es igual que': '¿7 == 3? False', 'Es distinto que': '¿7 != 3? True', 'Es menor que': '¿7 < 3? False', 'Es menor o igual que': '¿7 <= 3? False', 'Es mayor que': '¿7 > 3? True', 'Es mayor o igual que': '¿7 >= 3? True'}\n"
     ]
    }
   ],
   "source": [
    "Op_Comparación = {\n",
    "    \"Es igual que\" : f\"¿7 == 3? {7 == 3}\", #False\n",
    "    \"Es distinto que\" : f\"¿7 != 3? {7 != 3}\", #True\n",
    "    \"Es menor que\" : f\"¿7 < 3? {7 < 3}\", #False\n",
    "    \"Es menor o igual que\" : f\"¿7 <= 3? {7 <= 3}\", #False\n",
    "    \"Es mayor que\" : f\"¿7 > 3? {7 > 3}\", #True\n",
    "    \"Es mayor o igual que\" : f\"¿7 >= 3? {7 >= 3}\" #True\n",
    "}\n",
    "\n",
    "print(Op_Comparación)"
   ]
  },
  {
   "cell_type": "markdown",
   "metadata": {},
   "source": [
    "## Operadores Lógicos\n",
    "\n",
    "Al igual que los operadores de comparación, el uso de los **operadores lógicos** se ve más en condicionales y devuelven **True** o **False**.\n",
    "\n",
    "- AND: Devuelve **True** si dos condiciones se cumplen\n",
    "- OR: Devuelve **True** si una de las condiciones se cumple\n",
    "- NOT: Invierte el valor lógico"
   ]
  },
  {
   "cell_type": "code",
   "execution_count": 4,
   "metadata": {},
   "outputs": [
    {
     "name": "stdout",
     "output_type": "stream",
     "text": [
      "{'AND_1': 'Verdadero y verdadero = True', 'AND_2': 'Verdadero y falso = False', 'AND_3': 'Falso y falso = False', 'OR_1': 'Verdadero y verdadero = True', 'OR_2': 'Verdadero y Falso = True', 'OR_3': 'Falso y Falso = False', 'NOT_1': 'Verdadero = False', 'NOT_2': 'Falso = True'}\n"
     ]
    }
   ],
   "source": [
    "Op_logicos = {\n",
    "    \"AND_1\" : f\"Verdadero y verdadero = {True and True}\", #Devuelve True\n",
    "    \"AND_2\" : f\"Verdadero y falso = {True and False}\", #Devuelve False\n",
    "    \"AND_3\" : f\"Falso y falso = {False and False}\", #Devuelve False\n",
    "    \"OR_1\" : f\"Verdadero y verdadero = {True or True}\", #Devuelve True\n",
    "    \"OR_2\" : f\"Verdadero y Falso = {True or False}\", #Devuelve True\n",
    "    \"OR_3\" : f\"Falso y Falso = {False or False}\", #Devuelve False\n",
    "    \"NOT_1\" : f\"Verdadero = {not True}\", #Devuelve False\n",
    "    \"NOT_2\" : f\"Falso = {not False}\", #Devuelve True\n",
    "}\n",
    "\n",
    "print(Op_logicos)"
   ]
  },
  {
   "cell_type": "markdown",
   "metadata": {},
   "source": [
    "**Siguiente Lección: `03_conditionals`**"
   ]
  }
 ],
 "metadata": {
  "kernelspec": {
   "display_name": "Python 3",
   "language": "python",
   "name": "python3"
  },
  "language_info": {
   "codemirror_mode": {
    "name": "ipython",
    "version": 3
   },
   "file_extension": ".py",
   "mimetype": "text/x-python",
   "name": "python",
   "nbconvert_exporter": "python",
   "pygments_lexer": "ipython3",
   "version": "3.12.4"
  }
 },
 "nbformat": 4,
 "nbformat_minor": 2
}
